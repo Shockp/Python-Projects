{
 "cells": [
  {
   "cell_type": "markdown",
   "metadata": {},
   "source": [
    "#### **Mini-Project: Todo List Manager**\n",
    "##### **Problem Statement:**\n",
    "Create a Todo List Manager that allows users to:\n",
    "1. Add tasks to a todo list.\n",
    "2. View all tasks in the todo list.\n",
    "3. Delete specific tasks by their index.\n",
    "4. Save tasks to a text file for persistence.\n",
    "5. Load tasks from the text file when the program starts."
   ]
  },
  {
   "cell_type": "markdown",
   "metadata": {},
   "source": [
    "##### **Program Requirements:**\n",
    "1. Display a menu with options:\n",
    "    - 1: Add a task.\n",
    "    - 2: View tasks.\n",
    "    - 3: Delete a task.\n",
    "    - 4: Exit the program.\n",
    "2. Tasks should be stored in a file (todo_list.txt).\n",
    "3. The program should load existing tasks from the file when it starts and save changes automatically after every modification."
   ]
  },
  {
   "cell_type": "markdown",
   "metadata": {},
   "source": [
    "#### **Example Interaction:**\n",
    "Welcome to the Todo List Manager!\n",
    "\n",
    "1. Add Task\n",
    "2. View Tasks\n",
    "3. Delete Task\n",
    "4. Exit\n",
    "\n",
    "Enter your choice: 1\n",
    "\n",
    "Enter the task: Buy groceries\n",
    "\n",
    "1. Add Task\n",
    "2. View Tasks\n",
    "3. Delete Task\n",
    "4. Exit\n",
    "\n",
    "Enter your choice: 2\n",
    "\n",
    "Tasks:\n",
    "1. Buy groceries\n",
    "\n",
    "1. Add Task\n",
    "2. View Tasks\n",
    "3. Delete Task\n",
    "4. Exit\n",
    "\n",
    "Enter your choice: 3\n",
    "\n",
    "Enter the task number to delete: 1\n",
    "\n",
    "Task deleted!\n",
    "\n",
    "1. Add Task\n",
    "2. View Tasks\n",
    "3. Delete Task\n",
    "4. Exit\n",
    "\n",
    "Enter your choice: 4\n",
    "\n",
    "Goodbye!"
   ]
  },
  {
   "cell_type": "code",
   "execution_count": null,
   "metadata": {},
   "outputs": [],
   "source": []
  }
 ],
 "metadata": {
  "kernelspec": {
   "display_name": "base",
   "language": "python",
   "name": "python3"
  },
  "language_info": {
   "name": "python",
   "version": "3.12.7"
  }
 },
 "nbformat": 4,
 "nbformat_minor": 2
}
