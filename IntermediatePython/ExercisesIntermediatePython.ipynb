{
 "cells": [
  {
   "cell_type": "markdown",
   "metadata": {},
   "source": [
    "#### **Task 1: Word Frequency Counter**\n",
    "##### Problem Statement:\n",
    "Write a program that takes a sentence as input and calculates the frequency of each word. Use a dictionary to store the word counts."
   ]
  },
  {
   "cell_type": "code",
   "execution_count": 1,
   "metadata": {},
   "outputs": [
    {
     "name": "stdout",
     "output_type": "stream",
     "text": [
      "{'my': 3, 'dog': 2, 'is': 1, 'eating': 1, 'food': 2, 'and': 1, 'i': 1, 'need': 1, 'more': 1, 'for': 1}\n"
     ]
    }
   ],
   "source": [
    "def word_freq_counter(sentence: str) ->  dict:\n",
    "    words = sentence.lower().split()\n",
    "    counter = {}\n",
    "    for word in words:\n",
    "        if word in counter:\n",
    "            counter[word] += 1\n",
    "        else:\n",
    "            counter[word] = 1\n",
    "    return counter\n",
    "\n",
    "print(word_freq_counter(\"My dog is eating my food and I need more food for my dog\"))"
   ]
  },
  {
   "cell_type": "markdown",
   "metadata": {},
   "source": [
    "#### **Task 2: Set Operations**\n",
    "##### Problem Statement:\n",
    "Write a program that performs the following operations on two sets:\n",
    "\n",
    "Union: Combine all unique elements from both sets.\n",
    "Intersection: Find common elements in both sets.\n",
    "Difference: Find elements present in one set but not in the other."
   ]
  },
  {
   "cell_type": "code",
   "execution_count": 2,
   "metadata": {},
   "outputs": [
    {
     "name": "stdout",
     "output_type": "stream",
     "text": [
      "Union: {1, 2, 3, 4, 5, 6, 7, 8}\n",
      "Intersection: {4, 5}\n",
      "Difference (A - B): {1, 2, 3}\n",
      "Difference (B - A): {8, 6, 7}\n"
     ]
    }
   ],
   "source": [
    "def set_operations(set1: set, set2: set) -> None:\n",
    "    print(f\"Union: {set1.union(set2)}\")\n",
    "    print(f\"Intersection: {set1.intersection(set2)}\")\n",
    "    print(f\"Difference (A - B): {(set1 - set2)}\")\n",
    "    print(f\"Difference (B - A): {(set2 - set1)}\")\n",
    "    \n",
    "set_operations({1, 2, 3, 4, 5}, {4, 5, 6, 7, 8})"
   ]
  },
  {
   "cell_type": "markdown",
   "metadata": {},
   "source": [
    "#### **Task 3: Functions Using map() and filter()**\n",
    "##### Problem Statement:\n",
    "Write a function that takes a list of numbers and returns the square of each number using the map() function.\n",
    "Write a function to filter out all even numbers from a list using the filter() function."
   ]
  },
  {
   "cell_type": "code",
   "execution_count": 3,
   "metadata": {},
   "outputs": [
    {
     "name": "stdout",
     "output_type": "stream",
     "text": [
      "[1, 4, 9, 16, 25]\n"
     ]
    }
   ],
   "source": [
    "def square_numbers(mylist: list) -> list:\n",
    "    return list(map(lambda x: x**2, mylist))\n",
    "\n",
    "print(square_numbers([1, 2, 3, 4, 5]))"
   ]
  },
  {
   "cell_type": "code",
   "execution_count": 4,
   "metadata": {},
   "outputs": [
    {
     "name": "stdout",
     "output_type": "stream",
     "text": [
      "[2, 4, 6, 8, 10]\n"
     ]
    }
   ],
   "source": [
    "def filter_even_numbers(mylist: list) -> list:\n",
    "    return list(filter(lambda x: x % 2 == 0, mylist))\n",
    "\n",
    "print(filter_even_numbers([1, 2, 3, 4, 5, 6, 7, 8, 9, 10]))"
   ]
  },
  {
   "cell_type": "markdown",
   "metadata": {},
   "source": [
    "#### **Task 4: File Handling**\n",
    "##### Problem Statement:\n",
    "1. Read a File:\n",
    "    - Create a program that reads the contents of a text file and calculates:\n",
    "        - The number of lines.\n",
    "        - The total number of words.\n",
    "        - The total number of characters.\n",
    "\n",
    "2. Write to a File:\n",
    "    - Create a program that:\n",
    "        - Takes user input (e.g., a paragraph or sentence).\n",
    "        - Writes the input to a file.\n",
    "        - Reads the contents of the file back and displays them."
   ]
  },
  {
   "cell_type": "code",
   "execution_count": 5,
   "metadata": {},
   "outputs": [
    {
     "name": "stdout",
     "output_type": "stream",
     "text": [
      "You are a extraordinary person.\n"
     ]
    }
   ],
   "source": [
    "def write_file(file_path: str) -> None:\n",
    "    try:\n",
    "        user_input = input(\"Enter the text to write in the file: \")\n",
    "        with open(file_path, 'w') as file:\n",
    "            file.write(user_input)\n",
    "        \n",
    "        with open(file_path, 'r') as file:\n",
    "            content = file.read()\n",
    "            print(f\"{content}\")\n",
    "    except FileNotFoundError:\n",
    "        print(f\"The file {file_path} was not found.\")\n",
    "\n",
    "file_path = \"./test.txt\"\n",
    "write_file(file_path)"
   ]
  },
  {
   "cell_type": "code",
   "execution_count": 6,
   "metadata": {},
   "outputs": [
    {
     "name": "stdout",
     "output_type": "stream",
     "text": [
      "Lines: 1\n",
      "Words: 5\n",
      "Characters: 31\n"
     ]
    }
   ],
   "source": [
    "def read_file(file_path: str) -> None:\n",
    "    try:\n",
    "        with open(file_path, 'r') as file:\n",
    "            content = file.readlines()\n",
    "            line_count = len(content)\n",
    "            word_count = sum([len(line.split()) for line in content])\n",
    "            char_count = sum([len(line) for line in content])\n",
    "        print(f\"Lines: {line_count}\")\n",
    "        print(f\"Words: {word_count}\")\n",
    "        print(f\"Characters: {char_count}\")\n",
    "    except FileNotFoundError:\n",
    "        print(f\"The file {file_path} was not found.\")\n",
    "\n",
    "file_path = \"./test.txt\"\n",
    "read_file(file_path)"
   ]
  }
 ],
 "metadata": {
  "kernelspec": {
   "display_name": "base",
   "language": "python",
   "name": "python3"
  },
  "language_info": {
   "codemirror_mode": {
    "name": "ipython",
    "version": 3
   },
   "file_extension": ".py",
   "mimetype": "text/x-python",
   "name": "python",
   "nbconvert_exporter": "python",
   "pygments_lexer": "ipython3",
   "version": "3.12.7"
  }
 },
 "nbformat": 4,
 "nbformat_minor": 2
}
